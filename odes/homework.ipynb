{
 "cells": [
  {
   "cell_type": "markdown",
   "id": "213498ea-301a-4b48-b2ae-c2a086ad69f6",
   "metadata": {},
   "source": [
    "In 1961, Edward N. Lorenz was using an early off-the-shelf computer [LGP-30](https://en.wikipedia.org/wiki/LGP-30) to simulate weather patterns by using a system of ordinary differential equations, now called the [Lorenz system](https://en.wikipedia.org/wiki/Lorenz_system). \n",
    "Lorenz wanted to see a sequence of data again, and to save time he started the simulation in the middle of its course, by entering data from a printout of the original simulation. To his surprise, the weather that the machine began to predict was completely different from the previous calculation. The computer worked with 6-digit precision, but the printout rounded variables off to a 3-digit number. This behavior is now known as the [butterfly effect](https://en.wikipedia.org/wiki/Butterfly_effect) or deterministic chaos: the present determines the future, but the approximate present does not approximately determine the future. \n",
    "\n",
    "The main catalyst for the development of [chaos theory](https://en.wikipedia.org/wiki/Chaos_theory) in the 70s and 80s was the electronic computer. Much of the mathematics of chaos theory involves the repeated iteration of simple mathematical formulas, which would be impractical to do by hand. \n",
    "\n",
    "The Lorenz system is described in Chapter 14 of \n",
    "\n",
    ">  Hirsch, Morris W., Devaney, Rob, and Smale, Stephen.\n",
    "_Differential equations, dynamical systems, and an introduction to chaos_,\n",
    "Academic Press, Amsterdam, 2013. \n",
    "<https://doi.org/10.1016/C2009-0-61160-0>\n",
    "(ebook in [Helka](https://helka.helsinki.fi/permalink/358UOH_INST/1b30nf2/alma9924315333506253))\n",
    "\n",
    "The goal of this homework is to reproduce Figures 14.1 and 14.2 of the book.\n",
    "Note that, due to the butterfly effect, you won't be able to get exact reproductions, only qualitatively similar pictures.\n",
    "\n",
    "You can also have a look at the wonderful book\n",
    "\n",
    "> Flake, Gary W. _The Computational Beauty of Nature: Computer Explorations of Fractals, Chaos, Complex Systems, and Adaptation_, MIT Press, Cambridge, MA, 1998.\n",
    "\n",
    "Unfortunately, the latter book seems not to be available as an ebook. The source code from the book is in [GitHub](https://github.com/gwf/CBofN) (written in C).\n"
   ]
  },
  {
   "cell_type": "code",
   "execution_count": null,
   "id": "a672ed28-175b-4408-930e-f23bae5d5b8f",
   "metadata": {
    "tags": [
     "rm"
    ]
   },
   "outputs": [],
   "source": [
    "import numpy as np\n",
    "import matplotlib.pyplot as plt\n",
    "import scipy.integrate as integ\n",
    "\n",
    "# Parameters for the Lorenz system\n",
    "sigma = 10\n",
    "b = 8/3\n",
    "r = 28\n",
    "\n",
    "def int_lorenz(u0, ts):\n",
    "    '''Solve the Lorenz system with the initial condition u0 on the mesh ts'''\n",
    "    raise NotImplementedError() # a placeholder, your implementation goes here\n",
    "    \n",
    "# Reproduce Figure 14.2 here\n",
    "# (Figure 14.1 is drawn in the next cell) \n",
    "\n",
    "raise NotImplementedError() # a placeholder, your implementation goes here"
   ]
  },
  {
   "cell_type": "code",
   "execution_count": null,
   "id": "910a40ed-8206-43d5-aa14-f8490532b78c",
   "metadata": {},
   "outputs": [],
   "source": [
    "ts = np.arange(0, 60, 0.01)\n",
    "\n",
    "def plot_trajectory(x0, y0, z0):\n",
    "    us = int_lorenz([x0, y0, z0], ts)\n",
    "    xs, ys, zs = us[:, 0], us[:, 1], us[:, 2]\n",
    "    ax3d = plt.gca()\n",
    "    ax3d.plot(xs, ys, zs, 'k', linewidth=0.5)\n",
    "    ax3d.plot(x0, y0, z0, 'ok', markersize=1)\n",
    "    ax3d.set_xticks([])\n",
    "    ax3d.set_yticks([])\n",
    "    ax3d.set_zticks([])\n",
    "\n",
    "fig = plt.figure(dpi=200)\n",
    "fig.add_subplot(1, 2, 1, projection='3d')\n",
    "plot_trajectory(0, 2, 0)\n",
    "fig.add_subplot(1, 2, 2, projection='3d')\n",
    "plot_trajectory(0, -2, 0)"
   ]
  },
  {
   "cell_type": "markdown",
   "id": "5ef21219-5a89-4852-86c3-5ca671f18585",
   "metadata": {},
   "source": [
    "**How to hand in your solution**\n",
    "\n",
    "1. Run the whole notebook by choosing _Restart Kernel and Run All Cells_ in the _Run_ menu\n",
    "    - Alternatively you can click the ⏩️ icon in the toolbar\n",
    "2. Click the link below to check that the piece of code containing your solution was uploaded to pastebin\n",
    "    - If you have changed the order of cells in the notebook, you may need to change the number in the below cell to the one in the left margin of the cell containing your solution\n",
    "3. Copy the link and submit it in Moodle\n",
    "    - You can copy the link easily by right-clicking it and choosing _Copy Output to Clipboard_"
   ]
  },
  {
   "cell_type": "code",
   "execution_count": null,
   "id": "593ed956-2021-48fd-a1e8-649436f0716f",
   "metadata": {
    "tags": [
     "rm"
    ]
   },
   "outputs": [],
   "source": [
    "# Upload the code in the first input cell to pastebin\n",
    "%pastebin 1"
   ]
  },
  {
   "cell_type": "code",
   "execution_count": null,
   "id": "49cffa02-f3ea-43c6-ac90-3b1bad1f1554",
   "metadata": {},
   "outputs": [],
   "source": []
  }
 ],
 "metadata": {
  "kernelspec": {
   "display_name": "Python 3.9 (comp-methods)",
   "language": "python",
   "name": "comp-methods"
  },
  "language_info": {
   "codemirror_mode": {
    "name": "ipython",
    "version": 3
   },
   "file_extension": ".py",
   "mimetype": "text/x-python",
   "name": "python",
   "nbconvert_exporter": "python",
   "pygments_lexer": "ipython3",
   "version": "3.9.7"
  },
  "scenes_data": {
   "active_scene": "Default Scene",
   "init_scene": "",
   "scenes": [
    "Default Scene"
   ]
  }
 },
 "nbformat": 4,
 "nbformat_minor": 5
}
