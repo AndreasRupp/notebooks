{
 "cells": [
  {
   "cell_type": "markdown",
   "id": "25015d9e-fe5b-42d6-a789-2d4ffcfb422e",
   "metadata": {
    "tags": []
   },
   "source": [
    "The [Horner's method](https://en.wikipedia.org/wiki/Horner's_method) is an efficient algorithm for the evaluation of a polynomial $p(x)$ at a point $x_0$. Consider\n",
    "$$\n",
    "p(x) = a_0 x^n + a_1 x^{n-1} + \\ldots  + a_{n-1} x + a_n = \\sum_{i = 0}^{n} a_i x^{n-i}.\n",
    "$$\n",
    "Then, by setting $b_0 = a_0$ and iterating $b_{i+1} = a_{i+1} + b_i x_0$, we have that\n",
    "$$\n",
    "b_{n} = a_{n} + x_0 \\Big( a_{n-1}  + x_0 \\big( ... + x_0 (a_1 + x_0 a_0)...\\big)\\Big) = a_{n} + a_{n-1} x_0 + \\ldots + a_0 x_0^n = p(x_0).\n",
    "$$\n",
    "Polynomials can be represented by collecting the coefficients in a vector, that is, the above polynomial can be represented by\n",
    "$(a_0, a_1, \\dots, a_n)$.\n",
    "More concretely,\n",
    "$$\n",
    "p(x) = x^5 - 3x^4 + 1.5x^2 + 7\n",
    "$$\n",
    "can be represented by the vector $(1, -3, 0, 1.5, 0 7)$. \n",
    "\n",
    "\n",
    "Implement below the function `horner`. Then verify that it passes the tests in the subsequent cell."
   ]
  },
  {
   "cell_type": "code",
   "execution_count": null,
   "id": "15aee2a6-e94d-42e0-92a3-39e330c9d20c",
   "metadata": {
    "tags": [
     "rm"
    ]
   },
   "outputs": [],
   "source": [
    "import numpy as np\n",
    "\n",
    "def horner(cs, x):\n",
    "    '''Evaluate the polynomial with coefficients cs at x using Horner's Rule\n",
    "    \n",
    "        Here cs is a numpy vector and x is a scalar.\n",
    "    '''\n",
    "    return 0 # a placeholder, your implementation goes here"
   ]
  },
  {
   "cell_type": "code",
   "execution_count": null,
   "id": "7c9b5285-7858-40ed-959e-4d7e78aab84b",
   "metadata": {},
   "outputs": [],
   "source": [
    "# Run this cell to verify that your implementation passes a couple of tests\n",
    "# No output is produced if the code passes the tests, \n",
    "# otherwise you get an error message\n",
    "\n",
    "eps = np.finfo(float).eps\n",
    "def assert_horner(cs, x, y):\n",
    "    if not isinstance(cs, np.ndarray):\n",
    "        cs = np.atleast_1d(cs)\n",
    "    assert(np.abs(horner(cs, x) - y) < 10*eps)\n",
    "\n",
    "# Test 1: constant polynomial 0 is 0 at any point\n",
    "assert_horner(0, 1, 0) \n",
    "\n",
    "# Test 2: constant polynomial 1 is 1 at any point\n",
    "assert_horner(1, 0, 1) \n",
    "\n",
    "# Test 3: polynomial x is 0 at 0\n",
    "assert_horner([1, 0], 0, 0) \n",
    "\n",
    "# Test 4: polynomial x is 1 at 1\n",
    "assert_horner([1, 0], 1, 1)\n",
    "\n",
    "# Test 5: polynomial x^5 is 1 at 1 \n",
    "# (Here + joins two lists and [0]*5 repeats the list 5 times producing [0, ..., 0])\n",
    "assert_horner([1] + [0]*5, 1, 1) \n",
    "\n",
    "# Test 6: a bit more complicated polynomial, \n",
    "# but this is also easy to figure out without any actual computations  \n",
    "assert_horner([1, 3, 2, 1, 0], 0.1, 0.1231) "
   ]
  },
  {
   "cell_type": "markdown",
   "id": "ce74a232-f0d6-4d22-968b-8fd879ab376a",
   "metadata": {
    "tags": []
   },
   "source": [
    "**How to hand in your solution**\n",
    "\n",
    "1. Run the whole notebook by choosing _Restart Kernel and Run All Cells_ in the _Run_ menu\n",
    "    - Alternatively you can click the ⏩️ icon in the toolbar\n",
    "2. Click the link below to check that the piece of code containing your solution was uploaded to pastebin\n",
    "    - Note that the below cell is executed only if your code passes the above tests\n",
    "    - If you have changed the order of cells in the notebook, you may need to change the number in the below cell to the one in the left margin of the cell containing your solution\n",
    "3. Copy the link and submit it in Moodle\n",
    "    - You can copy the link easily by right-clicking it and choosing _Copy Output to Clipboard_"
   ]
  },
  {
   "cell_type": "code",
   "execution_count": null,
   "id": "ea671248-08c6-4444-b8f2-aaa6c7a9cd3a",
   "metadata": {
    "tags": [
     "rm"
    ]
   },
   "outputs": [],
   "source": [
    "# Upload the code in the first input cell to pastebin\n",
    "%pastebin 1"
   ]
  }
 ],
 "metadata": {
  "kernelspec": {
   "display_name": "Python 3.9 (comp-methods)",
   "language": "python",
   "name": "comp-methods"
  },
  "language_info": {
   "codemirror_mode": {
    "name": "ipython",
    "version": 3
   },
   "file_extension": ".py",
   "mimetype": "text/x-python",
   "name": "python",
   "nbconvert_exporter": "python",
   "pygments_lexer": "ipython3",
   "version": "3.9.7"
  }
 },
 "nbformat": 4,
 "nbformat_minor": 5
}
