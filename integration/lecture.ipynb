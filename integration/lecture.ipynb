{
 "cells": [
  {
   "cell_type": "markdown",
   "id": "8bcd23fd-0891-4aaf-9892-5c86fc238db7",
   "metadata": {
    "slideshow": {
     "slide_type": "slide"
    }
   },
   "source": [
    "# Numerical integration: introduction\n",
    "\n",
    "This notebook is based on Chapter 7 of \n",
    "\n",
    "<a id=\"thebook\"></a>\n",
    "> Süli, Endre and Mayers, David F. _An introduction to numerical analysis_. Cambridge University Press, Cambridge, 2003.\n",
    "<https://doi.org/10.1017/CBO9780511801181> (ebook in [Helka](https://helka.helsinki.fi/permalink/358UOH_INST/1h3k2rg/alma9926836783506253))\n",
    "\n",
    "We know how to evaluate some simple integrals of elementary functions by pen and paper but, in general, symbolic evaluation of integrals is a complicated problem, see for example the Wikipedia article of on the [Risch algorithm](https://en.wikipedia.org/wiki/Risch_algorithm). Here we consider numerical evaluation of integrals, a much simpler problem."
   ]
  },
  {
   "cell_type": "code",
   "execution_count": null,
   "id": "a87347ef-ee2b-4af9-b48c-2ca726eb4157",
   "metadata": {
    "slideshow": {
     "slide_type": "slide"
    }
   },
   "outputs": [],
   "source": [
    "import sympy as sp\n",
    "from sympy.abc import x\n",
    "from IPython.display import Math\n",
    "\n",
    "def display_risch(f):\n",
    "    int_tex = r'\\int ' + sp.latex(f)  + ' dx'\n",
    "    F = sp.integrate(f, x, risch=True)\n",
    "    if not isinstance(F, sp.integrals.Integral):\n",
    "        # The integral is elementary and we display the antiderivative\n",
    "        display(Math(int_tex + '=' + sp.latex(F)))\n",
    "    elif isinstance(F, sp.integrals.risch.NonElementaryIntegral):\n",
    "        # The integral is proven to be nonelementary by the algorithm, \n",
    "        # meaning the integral cannot be represented using a combination of \n",
    "        # exponentials, logarithms, trig functions, powers, rational functions, \n",
    "        # algebraic functions, and function composition\n",
    "        display(Math(int_tex + r'\\,\\text{ is not an elementary function}'))\n",
    "    else:\n",
    "        # The version implemented in SymPy only supports a small subset of \n",
    "        # the full Risch algorithm, no conclusion can be drawn from this case\n",
    "        display(Math(int_tex + r'\\,\\text{ can not be handled by the algorithm}'))"
   ]
  },
  {
   "cell_type": "code",
   "execution_count": null,
   "id": "f08d7be1-7215-4363-b491-5bbb6fd37632",
   "metadata": {
    "slideshow": {
     "slide_type": "slide"
    }
   },
   "outputs": [],
   "source": [
    "# Example from pp. 82-84 (Examples 2 and 3) of\n",
    "#   Grozin, A. Introduction to Mathematica for Physicists. Springer, 2014.\n",
    "# shows that a small change in the integrand makes it impossible to express \n",
    "# an integral by using elementary functions      \n",
    "display_risch(sp.log(x)/x)\n",
    "display_risch(sp.log(x)/(x + 1))\n",
    "# Dubious example in the Wikipedia article on the Risch algorithm\n",
    "display_risch(x / sp.sqrt(x**4 + 10*x**2 - 96*x - 72))"
   ]
  },
  {
   "cell_type": "markdown",
   "id": "79ef60c7-e915-4837-9e43-9ca13a141013",
   "metadata": {
    "slideshow": {
     "slide_type": "slide"
    }
   },
   "source": [
    "# Newton-Cotes formulae\n",
    "\n",
    "Polynomials are easy to integrate, and the _Newton-Cotes formula_ of order $n = 1, 2, \\dots$ is obtained by letting $p$ be the degree $n$ Lagrange interpolation polynomial of a function $f$ with equally-spaced points on an interval $[a,b]$, and approximating\n",
    "\n",
    "$$\n",
    "\\int_a^b f(x) dx \\approx \\int_a^b p(x) dx.\n",
    "$$\n",
    "\n",
    "Recall that if $a = x_0 < x_1 < \\dots < x_n = b$ are the equally spaced points, then\n",
    "\n",
    "$$\n",
    "p(x) = \\sum_{k=0}^n f(x_k) L_k(x),\n",
    "$$\n",
    "\n",
    "where $L_k \\in \\mathbb P_n$ are the polynomials satisfying $L_k(x_i) = \\delta_{ki}$.\n",
    "Hence\n",
    "\n",
    "$$\n",
    "\\int_a^b p(x) dx = \\sum_{k=0}^n w_k f(x_k), \\qquad w_k = \\int_a^b L_k(x) dx.\n",
    "$$"
   ]
  },
  {
   "cell_type": "code",
   "execution_count": null,
   "id": "f46d7fc0-688d-4df3-842a-5b5a2e49bcd1",
   "metadata": {
    "slideshow": {
     "slide_type": "slide"
    }
   },
   "outputs": [],
   "source": [
    "import numpy as np\n",
    "import scipy.interpolate as interp\n",
    "\n",
    "def nc_weights(a, b, n):\n",
    "    '''Compute the quadrature weights for Newton-Cotes formula of order n on [a, b]'''\n",
    "    N = n+1\n",
    "    xs = np.linspace(a, b, N)\n",
    "    ws = np.zeros(N)\n",
    "    for k in range(N):\n",
    "        ys = np.zeros(N)\n",
    "        ys[k] = 1\n",
    "        l = interp.lagrange(xs, ys) # the polynomial L_k\n",
    "        L = np.polyint(l)\n",
    "        ws[k] = L(b) - L(a)\n",
    "    return ws, xs\n",
    "\n",
    "def nc_int(ws, xs, f):\n",
    "    '''Integrate f using the quadrature weights ws and points xs'''\n",
    "    return np.sum(ws * f(xs))"
   ]
  },
  {
   "cell_type": "code",
   "execution_count": null,
   "id": "6a70690e-40a4-41b4-802f-1f9d25376800",
   "metadata": {
    "slideshow": {
     "slide_type": "slide"
    }
   },
   "outputs": [],
   "source": [
    "a, b = 0, 1\n",
    "def test_nc_int(ws, xs, expr):\n",
    "    # Convert a symbolic expression with x as a free variable to a function \n",
    "    f = sp.lambdify(x, expr) \n",
    "    display(Math(r'\\text{' + \n",
    "        f'Order n={np.size(ws)-1} gives {nc_int(ws, xs, f):.2f} ' +\n",
    "        r' for }\\int' + f'_{a}^{b}' + sp.latex(expr)  + \n",
    "        f' dx = {sp.integrate(expr, (x, a, b))}')) \n",
    "\n",
    "ws, xs = nc_weights(a, b, 1)\n",
    "test_nc_int(ws, xs, 1)\n",
    "test_nc_int(ws, xs, x)\n",
    "test_nc_int(ws, xs, x**2)"
   ]
  },
  {
   "cell_type": "code",
   "execution_count": null,
   "id": "2bce48b1-18a2-4e16-8d2e-5f49c0ad306d",
   "metadata": {
    "slideshow": {
     "slide_type": "slide"
    }
   },
   "outputs": [],
   "source": [
    "ws, xs = nc_weights(a, b, 2)\n",
    "test_nc_int(ws, xs, 1)\n",
    "test_nc_int(ws, xs, x)\n",
    "test_nc_int(ws, xs, x**2)\n",
    "test_nc_int(ws, xs, x**3)\n",
    "test_nc_int(ws, xs, x**4)"
   ]
  },
  {
   "cell_type": "markdown",
   "id": "b04f9399-ade7-424a-b1d1-fe5fb4778661",
   "metadata": {
    "slideshow": {
     "slide_type": "slide"
    },
    "tags": []
   },
   "source": [
    "It can be shown that the Newton-Cotes formula of order $n$ is _exact_, that is, it gives the exactly correct integral, for polynomials of degree $n$ if $n$ is odd and for polynomials of degree $n+1$ if $n$ is even.\n",
    "\n",
    "## Theorem: error in Newton-Cotes\n",
    ">\n",
    "> Let $n=1,2,\\dots$ and $f \\in C^{n+1}(a,b)$. Let $w_i, x_i$, $i=0,\\dots,n$, be the quadrature weights and points in the Newton-Cotes formula of order $n$ on $[a,b]$. Then\n",
    ">\n",
    ">\\begin{align*}\n",
    "&\\left|\\int_a^b f(x) dx - \\sum_{k=0}^n w_k f(x_k) \\right| \n",
    "\\\\&\\quad\\le \n",
    "\\frac{\\|f^{(n+1)}\\|_\\infty}{(n+1)!} \\int_a^b (x-x_0)\\dots(x-x_n) dx.\n",
    "\\end{align*}\n",
    "\n",
    "For a proof, see Theorem 7.1 in [the book](#thebook). When the points $x_i$ are equally-spaced, the estimate is suboptimal for even $n$ since it does not take into account that the Newton-Cotes formula is exact for polynomials of order $n+1$ in this case. For a sharp estimate in the case $n=2$ with equal spacing, see Theorem 7.2 in [the book](#thebook)."
   ]
  },
  {
   "cell_type": "code",
   "execution_count": null,
   "id": "16425cf9-c040-475a-8d02-7366d5fbf4bd",
   "metadata": {
    "slideshow": {
     "slide_type": "slide"
    }
   },
   "outputs": [],
   "source": [
    "def nc_weights_sym(n):\n",
    "    '''Compute symbolically the weights for Newton-Cotes formula of order n'''\n",
    "    from sympy.abc import a, b, x\n",
    "    ws = []\n",
    "    xs = []\n",
    "    h = (b - a)/n\n",
    "    for k in range(n+1):\n",
    "        xk = a + k*h\n",
    "        xs.append(sp.simplify(xk))\n",
    "        L = 1\n",
    "        for i in range(n+1):\n",
    "            if i != k:\n",
    "                xi = a + i*h\n",
    "                L *= (x - xi) / (xk -xi)\n",
    "        ws.append(sp.simplify(sp.integrate(L, (x, a, b))))\n",
    "    return ws, xs\n",
    "\n",
    "def nc_formula(n):\n",
    "    '''Compute symbolic expression for Newton-Cotes formula of order n'''\n",
    "    w, x = nc_weights_sym(n)\n",
    "    f = sp.Function('f')\n",
    "    nc_form = 0\n",
    "    for k in range(len(w)):\n",
    "        nc_form += w[k] * f(x[k])\n",
    "    return sp.simplify(nc_form)"
   ]
  },
  {
   "cell_type": "code",
   "execution_count": null,
   "id": "fef986c3-83e1-4eac-a312-412e0e740edd",
   "metadata": {
    "slideshow": {
     "slide_type": "slide"
    },
    "tags": []
   },
   "outputs": [],
   "source": [
    "print('Trapezium rule')\n",
    "display(Math(sp.latex(nc_formula(1))))\n",
    "print(\"Simpson's rule\")\n",
    "display(Math(sp.latex(nc_formula(2))))"
   ]
  },
  {
   "cell_type": "markdown",
   "id": "422f4069-56cf-4230-a9de-d96f1b3a4081",
   "metadata": {
    "slideshow": {
     "slide_type": "slide"
    },
    "tags": []
   },
   "source": [
    "Recall that the Lagrange interpolation polynomial of \n",
    "\n",
    "$$\n",
    "f(x) = \\frac{1}{1+x^2}\n",
    "$$\n",
    "\n",
    "gives a poor approximation of $f$ on $[-5, 5]$ due to the Runge phenomenon. \n",
    "\n",
    "Thus the Newton-Cotes formulae are expected to work poorly for \n",
    "\n",
    "$$\n",
    "\\int_{-5}^5 f(x) dx.\n",
    "$$"
   ]
  },
  {
   "cell_type": "code",
   "execution_count": null,
   "id": "85852bfa-f710-47f2-8598-279858cf5e1a",
   "metadata": {
    "slideshow": {
     "slide_type": "slide"
    },
    "tags": []
   },
   "outputs": [],
   "source": [
    "def f(x):\n",
    "    return 1 / (1 + x**2)\n",
    "ns = range(2, 13, 2)\n",
    "N = np.size(ns)\n",
    "data = np.zeros(N)\n",
    "for k in range(N):\n",
    "    ws, xs = nc_weights(-5, 5, ns[k])\n",
    "    data[k] = nc_int(ws, xs, f)\n",
    "\n",
    "import pandas as pd\n",
    "df = pd.DataFrame(data)\n",
    "df.columns = ['$I_n$']\n",
    "df.index = ns\n",
    "df.index.name = 'n'\n",
    "df.style.format('{:.5f}')"
   ]
  },
  {
   "cell_type": "markdown",
   "id": "e4f986bf-8969-4d66-a8b5-47b7cef1f403",
   "metadata": {
    "slideshow": {
     "slide_type": "slide"
    }
   },
   "source": [
    "# Composite formulae\n",
    "\n",
    "Instead of using a Newton-Cotes formula on a large interval, it is often better to divide the interval into small subintervals and apply the formula separately on each subinverval. We will consider only the trapezium rule. \n",
    "\n",
    "Let $a = x_0 < x_1 < \\dots < x_n = b$ be equally spaced\n",
    "and write $h = x_1 - x_0$. For $f \\in C(a,b)$ there holds\n",
    "\n",
    "$$\n",
    "\\int_a^b f(x) dx = \\sum_{i=1}^n \\int_{x_{i-1}}^{x_i} f(x) dx.\n",
    "$$\n",
    "\n",
    "We approximate using the trapezium rule\n",
    "\n",
    "$$\n",
    "\\int_{x_{i-1}}^{x_i} f(x) dx \\approx \\frac{x_i - x_{i-1}}{2}(f(x_{i-1}) + f(x_i))\n",
    "= \n",
    "\\frac h 2 (f(x_{i-1}) + f(x_i)),\n",
    "$$\n",
    "\n",
    "and obtain the _composite trapezium rule_\n",
    "\n",
    "$$\n",
    "\\int_a^b f(x) dx \n",
    "\\approx \n",
    "h \\left( \\frac12 f(x_0) + f(x_1) + \\dots + f(x_{n-1}) + \\frac12 f(x_n) \\right).\n",
    "$$"
   ]
  },
  {
   "cell_type": "markdown",
   "id": "2745e696-c465-493e-9ec7-7ea238f0c760",
   "metadata": {
    "slideshow": {
     "slide_type": "slide"
    }
   },
   "source": [
    "## Theorem: error in composite trapezium rule\n",
    "> Let $f \\in C^2(a,b)$ and write $I_h f$ for the composite trapezium rule applied to $f$ with the spacing $h>0$. Then there is $C>0$, independent of $f$ and $h$, such that\n",
    ">\n",
    ">$$\n",
    "\\left|\\int_a^b f dx - I_h f \\right| \\le \\|(h\\partial)^2 f\\|_\\infty.\n",
    "$$\n",
    "\n",
    "_Proof_. By the error in Newton-Cotes theorem,  \n",
    "\n",
    "\\begin{align*}\n",
    "\\left| \\int_a^b f(x) dx - I_h f \\right| \n",
    "\\le \n",
    "\\sum_{i=1}^n \\left|\\int_{x_{i-1}}^{x_i} f(x) dx - \\frac h 2 (f(x_{i-1}) + f(x_i)) \\right|\n",
    "\\le C n \\|f''\\|_\\infty h^3.\n",
    "\\end{align*}\n",
    "\n",
    "The claim follows from $h = (a-b)/n$.\n",
    "$\\blacksquare$"
   ]
  },
  {
   "cell_type": "markdown",
   "id": "9347ffef-8d12-4c5c-a275-d63a40d60200",
   "metadata": {
    "slideshow": {
     "slide_type": "slide"
    }
   },
   "source": [
    "# On the integration sub-package of SciPy\n",
    "\n",
    "The composite formulae are well-suited for approximation of integrals when the integrand is known only at some points $x_i$, $i=0,\\dots,n$. The composite trapezium rule is implemented by [trapezoid](https://docs.scipy.org/doc/scipy/reference/reference/generated/scipy.integrate.trapezoid.html) and its second order analogue, the composite Simpson's rule, by [simpson](https://docs.scipy.org/doc/scipy/reference/reference/generated/scipy.integrate.simpson.html#scipy.integrate.simpson).\n",
    "\n",
    "For highly regular grids $x_i$, $i=0,\\dots,n$, there are methods that outperform the composite rules. If the samples are equally-spaced and the number of samples available is $2^k + 1$ for some integer $k=1,2,\\dots$, then Romberg [romb](https://docs.scipy.org/doc/scipy/reference/reference/generated/scipy.integrate.romb.html#scipy.integrate.romb) integration can be used to obtain high-precision estimates of the integral using the available samples. This method is described in Section 7.7 of [the book](#thebook).\n",
    "\n",
    "If the integrand can be evaluated at any point on the region of integration, then [quad](https://docs.scipy.org/doc/scipy/reference/reference/generated/scipy.integrate.quad.html) can be used. This calls the Fortran library [QUADPACK](https://en.wikipedia.org/wiki/QUADPACK). The main focus of this library is on automatic integration in which the algorithm attempts to perform an integration with an error no larger than that requested. The library uses an [adaptive quadrature](https://en.wikipedia.org/wiki/Adaptive_quadrature) that divides the region of integration into adaptively refined subintervals. Generally, adaptive algorithms are just as efficient as composite rules for smooth integrands, but they may work for non-smooth integrands for which traditional algorithms may fail. \n",
    "\n",
    "For more details on integration with SciPy see the [tutorial](https://docs.scipy.org/doc/scipy/reference/tutorial/integrate.html)."
   ]
  },
  {
   "cell_type": "code",
   "execution_count": null,
   "id": "03ea89f9-20fb-43cc-bb7b-bef1bd7ee6b1",
   "metadata": {
    "slideshow": {
     "slide_type": "slide"
    }
   },
   "outputs": [],
   "source": [
    "import scipy.integrate as integ\n",
    "def f(x):\n",
    "    return np.log(x)/(x+1)\n",
    "a, b = 1, 2\n",
    "\n",
    "xs = np.linspace(a, b)\n",
    "ys = f(xs)\n",
    "print(f'trapezoid gives {integ.trapezoid(ys, xs)}')\n",
    "print(f'simpson gives   {integ.simpson(ys, xs)}')\n",
    "\n",
    "xs, dx = np.linspace(a, b, 33, retstep=True)\n",
    "ys = f(xs)\n",
    "print(f'romb gives      {integ.romb(ys, dx)}')\n",
    "\n",
    "# quad returns also an estimate of the absolute error in the result\n",
    "print(f'quad gives     {integ.quad(f, a, b)}')"
   ]
  },
  {
   "cell_type": "code",
   "execution_count": null,
   "id": "2dbd1252-8d0b-4649-86e3-a431e33b4a86",
   "metadata": {
    "slideshow": {
     "slide_type": "slide"
    }
   },
   "outputs": [],
   "source": [
    "def f(x):\n",
    "    return 1/np.sqrt(x)\n",
    "a, b = np.finfo(float).eps, 1\n",
    "\n",
    "xs = np.linspace(a, b)\n",
    "ys = f(xs)\n",
    "print(f'trapezoid gives {integ.trapezoid(ys, xs)}')\n",
    "print(f'simpson gives   {integ.simpson(ys, xs)}')\n",
    "\n",
    "xs, dx = np.linspace(a, b, 33, retstep=True)\n",
    "ys = f(xs)\n",
    "print(f'romb gives      {integ.romb(ys, dx)}')\n",
    "\n",
    "print(f'quad gives     {integ.quad(f, a, b)}')\n",
    "\n",
    "print(f'correct value   2 (up to machine precision)')"
   ]
  },
  {
   "cell_type": "code",
   "execution_count": null,
   "id": "0f1adae3-5e4e-4df8-b9bf-69974547ca7d",
   "metadata": {
    "slideshow": {
     "slide_type": "slide"
    }
   },
   "outputs": [],
   "source": []
  }
 ],
 "metadata": {
  "celltoolbar": "Slideshow",
  "kernelspec": {
   "display_name": "Python 3.9 (comp-methods)",
   "language": "python",
   "name": "comp-methods"
  },
  "language_info": {
   "codemirror_mode": {
    "name": "ipython",
    "version": 3
   },
   "file_extension": ".py",
   "mimetype": "text/x-python",
   "name": "python",
   "nbconvert_exporter": "python",
   "pygments_lexer": "ipython3",
   "version": "3.9.7"
  },
  "toc-autonumbering": true
 },
 "nbformat": 4,
 "nbformat_minor": 5
}
