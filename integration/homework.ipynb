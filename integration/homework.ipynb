{
 "cells": [
  {
   "cell_type": "markdown",
   "id": "2a8d97d9-89a0-4530-acbc-d1e9eb02aa80",
   "metadata": {},
   "source": [
    "Monte Carlo integration is a technique for numerical integration using random numbers. It can be useful, for example, when evaluating integrals over domains of high dimension. Meshing in high dimensions suffers from the [curse of dimensionality](https://en.wikipedia.org/wiki/Curse_of_dimensionality): 100 evenly spaced sample points suffice to sample the unit interval $[0,1]$ with no more than 0.01 distance between points, whereas sampling of the 10-dimensional unit hypercube $[0,1]^{10}$ with a lattice that has a spacing of 0.01 between adjacent points would require $10^{20}$ sample points.\n",
    "\n",
    "Let $\\Omega \\subset \\mathbb R^n$ and let $f : \\Omega \\to \\mathbb R$ be piecewise continuous. \n",
    "Let $p$ be such a probability density function on $\\Omega$ that $p(x) > 0$ for all $x \\in \\Omega$.\n",
    "The Monte Carlo approach to approximate the integral $\\int_\\Omega f(x) dx$\n",
    "works as follows: \n",
    "\n",
    "1. Generate a large number of independent samples $x_1,\\dots,x_N \\in \\Omega$\n",
    "from the probablity distribution with the density $p$\n",
    "2. Compute the quantity \n",
    "\n",
    "$$\n",
    "I_N = \\frac 1 N \\sum_{i=1}^N \\frac{f(x_i)}{p(x_i)}.\n",
    "$$\n",
    "\n",
    "The [law of large numbers](https://en.wikipedia.org/wiki/Law_of_large_numbers) implies that \n",
    "\n",
    "$$\n",
    "I_N \\to \\int_\\Omega f(x) dx \\quad \\text{as $n \\to \\infty$}.\n",
    "$$\n",
    "\n",
    "Choosing $p$ cleverly is the basic idea behind [importance sampling](https://en.wikipedia.org/wiki/Importance_sampling).\n",
    "\n",
    "[Buffon's needle](https://en.wikipedia.org/wiki/Buffon%27s_needle_problem) experiment is a classical pedagogical example of Monte Carlo integration. \n",
    "Suppose we have a floor made of parallel strips of wood, each the same width $t$, and we drop a needle of length $l < t$ onto the floor. Buffon showed that the  probability $P$ that the needle will lie across a line between two strips is\n",
    "\n",
    "\\begin{equation}\\tag{1}\n",
    "P=\\frac{2}{\\pi}\\frac{l}{t}.\n",
    "\\end{equation}\n",
    "\n",
    "Let $s$ be the distance from the center of the needle to the closest parallel line, and let $\\theta$ be the acute angle between the needle and one of the parallel lines. \n",
    "Here $s$ and $\\theta$ are random variables with uniform distributions over $[0, t/2]$ and $[0,\\pi/2]$, respectively. We write $p(s,\\theta)$ for their joint probability density function and $A$ for the event that the needle lies across a line between two strips. Then \n",
    "\n",
    "$$\n",
    "P = \\int_A p(s,\\theta) ds d\\theta.\n",
    "$$\n",
    "\n",
    "Writing $\\Omega = [0, t/2] \\times [0,\\pi/2]$ and $f(x) = 1_A(x) p(x)$\n",
    "where $x = (s,\\theta)$ and\n",
    "\n",
    "$$\n",
    "1_A(x) = \n",
    "\\begin{cases}\n",
    "1 & x \\in A,\n",
    "\\\\\n",
    "0 & x \\notin A,\n",
    "\\end{cases}\n",
    "$$\n",
    "\n",
    "we have, using the notation above, that $I_N \\to P$ as $N \\to \\infty$.\n",
    "Observe that, in this case,\n",
    "\n",
    "$$\n",
    "I_N = \\frac 1 N \\sum_{i=1}^N 1_A(x_i),\n",
    "$$\n",
    "\n",
    "and evaluating $I_N$ boils down to counting the needles that lie across a line between two strips.\n",
    "\n",
    "Take $l = 5/6$ and $t = 1$. The goal of this homework is to approximate \n",
    "$\\pi$ via the formula \n",
    "\n",
    "$$\n",
    "\\pi=\\frac{2l}{t P} \\approx \\frac{2l}{t I_N},\n",
    "$$\n",
    "\n",
    "that follows from (1). \n",
    "\n",
    "Let us give some remarks on the history of Monte Carlo integration. Formula (1) was first derived in \n",
    "\n",
    "> Buffon, Georges L. L., comte de. _Histoire naturelle, générale et particulière, Supplément 4_. Imprimerie royale, Paris, 1777. (scan in [Google Books](https://books.google.fi/books?id=AjhYD1vsVAIC&hl=fi&pg=PA100#v=onepage&q&f=false))\n",
    "\n",
    "Now my French is not very strong, but as claimed [here](https://en.wikipedia.org/wiki/Buffon's_needle_problem), it seems that approximating $\\pi$ was not the original motivation for Buffon's question. You can have a look at his book, see pp. 100-104, and while you are at it, you can also try figure out if there is an error in his derivation, as claimed [here](https://mathworld.wolfram.com/Buffon-LaplaceNeedleProblem.html). \n",
    "\n",
    "The idea of using Buffon's formula to design a method for approximating the number $\\pi$ goes back at least to Laplace. _\"Si l'on projette un grand nombre de fois ce cylindre [...] ce qui fera connaître la valeur de la circonférence $2 \\pi$\"_, see p. 360 of\n",
    "\n",
    "> Laplace, Pierre S., marquis de. _Théorie analytique des probabilités_. Veuve Courcier, Paris, 1812. (scan in [Internet Archive](https://archive.org/details/thorieanalytiqu01laplgoog/page/n464/mode/2up))\n",
    "\n",
    "The first computerized Monte Carlo simulations were run on [ENIAC](https://en.wikipedia.org/wiki/ENIAC) in 1948 by a team including John and Klara von Neumann and Nick Metropolis. It can be argued that the simulations were also the first code written in the modern paradigm, associated with the \"stored program concept,\" ever to be executed, see \n",
    "\n",
    "> Haigh, Thomas, Priestley, Mark, and Rope, Crispin. _Los Alamos Bets on ENIAC: Nuclear Monte Carlo Simulations, 1947-1948_. IEEE Annals of the History of Computing 36, no. 3, 42-63, 2014. <https://doi.org/10.1109/MAHC.2014.40> (in [Helka](https://helka.helsinki.fi/permalink/358UOH_INST/qn0n39/cdi_ieee_primary_6880250))\n"
   ]
  },
  {
   "cell_type": "code",
   "execution_count": null,
   "id": "104fe2fc-6bc0-4bf2-a029-e9d8b06f7ca9",
   "metadata": {
    "tags": [
     "rm"
    ]
   },
   "outputs": [],
   "source": [
    "import numpy as np\n",
    "rng = np.random.default_rng()\n",
    "\n",
    "t = 1\n",
    "l = 5/6\n",
    "\n",
    "def sample():\n",
    "    '''Returns s and theta generated using the random number generator rng'''\n",
    "    # Draw samples from uniform distributions using the function rng.uniform, see\n",
    "    # https://numpy.org/doc/stable/reference/random/generated/numpy.random.Generator.uniform.html\n",
    "    raise NotImplementedError() # a placeholder, your implementation goes here\n",
    "    \n",
    "def intersects(s, theta):\n",
    "    '''Returns True iff the needle lies across a line between two strips'''\n",
    "    raise NotImplementedError() # a placeholder, your implementation goes here\n",
    "\n",
    "# We will plot I_N for several N so let's save every nth approximation\n",
    "def I(n, K):\n",
    "    '''Return I_n, I_{2n}, ..., I_{Kn}'''\n",
    "    out = np.zeros(K)\n",
    "    raise NotImplementedError() # a placeholder, your implementation goes here\n",
    "    return out"
   ]
  },
  {
   "cell_type": "code",
   "execution_count": null,
   "id": "7a36a4a9-48bd-4c67-a4ce-e73168694bb9",
   "metadata": {},
   "outputs": [],
   "source": [
    "import matplotlib.pyplot as plt"
   ]
  },
  {
   "cell_type": "code",
   "execution_count": null,
   "id": "e2bcbde8-eb75-4066-917e-20134164a8ea",
   "metadata": {
    "tags": [
     "rm"
    ]
   },
   "outputs": [],
   "source": [
    "# Plot one sample\n",
    "s, theta = sample()\n",
    "c = np.array([0, s]) # Center of needle\n",
    "d = np.array([np.cos(theta), np.sin(theta)]) # Direction of needle\n",
    "# End points of needle\n",
    "end1 = c - l/2*d\n",
    "end2 = c + l/2*d\n",
    "ends = np.stack((end1, end2))\n",
    "xs = ends[:,0]\n",
    "ys = ends[:,1]\n",
    "\n",
    "plt.plot(xs, ys, 'r') # needle in red\n",
    "plt.plot([-1,1],[0, 0], 'b') # closest line in blue\n",
    "ax = plt.gca()\n",
    "ax.set_ylim(-0.5, 1)\n",
    "ax.set_aspect(1)\n",
    "print(f'Needle intersects the closest line: {intersects(s, theta)}')"
   ]
  },
  {
   "cell_type": "code",
   "execution_count": null,
   "id": "2220428e-aadf-4b6f-9ed8-e73dc4d04a34",
   "metadata": {},
   "outputs": [],
   "source": [
    "# Plot convergence to pi\n",
    "n = 100\n",
    "K = 40\n",
    "Is = I(n, K)\n",
    "Ns = n*np.arange(1,K+1)\n",
    "plt.plot(Ns, 2*l/(t*Is), 'b') # approximation in blue\n",
    "plt.plot([n,n*K],[np.pi, np.pi],'r') # pi in red\n",
    "ax = plt.gca()\n",
    "ax.set_ylim(2.4, 3.6);"
   ]
  },
  {
   "cell_type": "markdown",
   "id": "7e4e90f5-b385-4240-a4f3-ba626d96b180",
   "metadata": {},
   "source": [
    "**How to hand in your solution**\n",
    "\n",
    "1. Run the whole notebook by choosing _Restart Kernel and Run All Cells_ in the _Run_ menu\n",
    "    - Alternatively you can click the ⏩️ icon in the toolbar\n",
    "2. Click the link below to check that the piece of code containing your solution was uploaded to pastebin\n",
    "    - If you have changed the order of cells in the notebook, you may need to change the number in the below cell to the one in the left margin of the cell containing your solution\n",
    "3. Copy the link and submit it in Moodle\n",
    "    - You can copy the link easily by right-clicking it and choosing _Copy Output to Clipboard_"
   ]
  },
  {
   "cell_type": "code",
   "execution_count": null,
   "id": "a629589f-2324-41a5-a3bf-ef75c6a3cf10",
   "metadata": {
    "tags": [
     "rm"
    ]
   },
   "outputs": [],
   "source": [
    "# Upload the code in the first input cell to pastebin\n",
    "%pastebin 1"
   ]
  }
 ],
 "metadata": {
  "kernelspec": {
   "display_name": "Python 3.9 (comp-methods)",
   "language": "python",
   "name": "comp-methods"
  },
  "language_info": {
   "codemirror_mode": {
    "name": "ipython",
    "version": 3
   },
   "file_extension": ".py",
   "mimetype": "text/x-python",
   "name": "python",
   "nbconvert_exporter": "python",
   "pygments_lexer": "ipython3",
   "version": "3.9.7"
  },
  "scenes_data": {
   "active_scene": "Default Scene",
   "init_scene": "",
   "scenes": [
    "Default Scene"
   ]
  }
 },
 "nbformat": 4,
 "nbformat_minor": 5
}
