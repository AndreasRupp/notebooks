{
 "cells": [
  {
   "cell_type": "markdown",
   "id": "04ffbf70-e251-4abc-85a0-c0190dd19ed9",
   "metadata": {},
   "source": [
    "The below code is copied from the lecture notes. Implement pivoting for the forward solve step. For each column swap rows so that the number `d` used in division is as large as possible in absolute value. For example, if we are dealing with the 3rd column and \n",
    "\n",
    "$$\n",
    "a =\n",
    "\\begin{pmatrix}\n",
    "a_{11} & * & * & * & * & *\n",
    "\\\\\n",
    "0 & a_{22} & * & * & * & *\n",
    "\\\\\n",
    "0 & 0 & 0.2 & * & * & *\n",
    "\\\\\n",
    "0 & 0 & 0.1 & * & * & *\n",
    "\\\\\n",
    "0 & 0 & -0.3 & * & * & *\n",
    "\\\\\n",
    "0 & 0 & -0.2 & * & * & *\n",
    "\\end{pmatrix}\n",
    "$$\n",
    "\n",
    "then we swap the 3rd and 5th columns since $-0.3$ is the largest in absolute value among the numbers that we care about in the 3rd column. Here $*$ denotes a number that we don't care about. Also the values of $a_{ii}$, $i=1,2$, are unimportant (they are nonzero, though).\n",
    "\n",
    "You don't need to worry about handling singular (or close to singular) matrices $a$."
   ]
  },
  {
   "cell_type": "code",
   "execution_count": null,
   "id": "32cd3521-27a2-43b9-aadf-44aca13c3961",
   "metadata": {
    "tags": [
     "rm"
    ]
   },
   "outputs": [],
   "source": [
    "import numpy as np\n",
    "import logging\n",
    "from logging import debug, error\n",
    "\n",
    "def forward_solve(a, b):\n",
    "    '''Forward steps in Gaussian elimination. A sketch!'''\n",
    "    n = a.shape[0]\n",
    "    for j in range(n-1):\n",
    "        \n",
    "        # Pivoting should be implemented here\n",
    "        \n",
    "        d = a[j,j]\n",
    "        # After implementing the pivoting, you can delete the next three lines\n",
    "        if d == 0: # This is dangerous! Why?\n",
    "            error('Need to swap rows. This is not implemented!')\n",
    "            raise NotImplementedError()\n",
    "        for k in range(j+1,n):\n",
    "            mu = - a[k,j]/d\n",
    "            a[k] = a[k] + mu*a[j]\n",
    "            b[k] = b[k] + mu*b[j]\n",
    "        debug(f'After forward step for col {j+1} obtained:\\n'\n",
    "              f'{np.block([a,b[:,np.newaxis]])}')"
   ]
  },
  {
   "cell_type": "code",
   "execution_count": null,
   "id": "8650c611-39c9-4b8f-9f84-a15f22220a07",
   "metadata": {},
   "outputs": [],
   "source": [
    "# You may want to turn on the debug messages by changing WARNING to DEBUG\n",
    "logging.getLogger().setLevel(logging.WARNING);"
   ]
  },
  {
   "cell_type": "code",
   "execution_count": null,
   "id": "d1025910-e7ff-4961-bc70-bbf17569b745",
   "metadata": {
    "tags": []
   },
   "outputs": [],
   "source": [
    "# Run this cell to verify that your implementation passes a couple of tests\n",
    "\n",
    "def backward_solve(a, b, x):\n",
    "    '''Backward steps in Gaussian elimination'''\n",
    "    n = a.shape[0]\n",
    "    for j in range(n-1,-1,-1):  \n",
    "        y = b[j]\n",
    "        for k in range(j+1, n):\n",
    "            y -= a[j,k]*x[k]        \n",
    "        x[j] = y/a[j,j]\n",
    "        debug(f'Solved x{j+1} = {x[j]}')\n",
    "    \n",
    "def solve_demo(a, b):\n",
    "    '''Solve ax = b'''\n",
    "    # Take copies as we don't want to change the original matrices\n",
    "    a, b = a.copy(), b.copy() \n",
    "    forward_solve(a, b)\n",
    "    n = a.shape[0]\n",
    "    x = np.zeros(n)\n",
    "    backward_solve(a, b, x)\n",
    "    return x\n",
    "\n",
    "eps = np.finfo(float).eps\n",
    "\n",
    "def assert_solve(a, b):\n",
    "    x = solve_demo(a,b)\n",
    "    xtrue = np.linalg.solve(a, b)\n",
    "    print(f'{    x = }')\n",
    "    print(f'{xtrue = }')\n",
    "    assert(np.linalg.norm(x - xtrue) < 10*eps)\n",
    "\n",
    "# Test 1: this system doesn't require pivoting \n",
    "a = np.array([\n",
    "[1,2,3],\n",
    "[2,3,4],\n",
    "[3,4,6],\n",
    "], dtype=float)\n",
    "b = np.array([1, 1, 0], dtype=float)\n",
    "assert_solve(a, b)    \n",
    "\n",
    "# Test 2: this system requires pivoting \n",
    "a = np.array([\n",
    "[1,2,3],\n",
    "[2,4,5],\n",
    "[3,5,6],\n",
    "], dtype=float)\n",
    "b = np.array([1, 0, 0], dtype=float)\n",
    "assert_solve(a, b)    \n",
    "\n",
    "# Test 3: this system requires pivoting, \n",
    "# and the sketched code fails to recognize this \n",
    "a = np.array([\n",
    "[1, 0, 0, 0.1, 0],\n",
    "[0, 1, 0, 0.1, 0],\n",
    "[0, 0, 1, 0.1, 0],\n",
    "[1, 1, 1, 0.3, 1],\n",
    "[0, 0, 0, 1.0, 0]\n",
    "])\n",
    "b = np.array([0, 0, 0, 1, 1], dtype=float)\n",
    "assert_solve(a, b)"
   ]
  },
  {
   "cell_type": "markdown",
   "id": "0e704631-7a68-4f01-abdc-1cc24972c8fa",
   "metadata": {
    "tags": []
   },
   "source": [
    "**How to hand in your solution**\n",
    "\n",
    "1. Run the whole notebook by choosing _Restart Kernel and Run All Cells_ in the _Run_ menu\n",
    "    - Alternatively you can click the ⏩️ icon in the toolbar\n",
    "2. Click the link below to check that the piece of code containing your solution was uploaded to pastebin\n",
    "    - Note that the below cell is executed only if your code passes the above tests\n",
    "    - If you have changed the order of cells in the notebook, you may need to change the number in the below cell to the one in the left margin of the cell containing your solution\n",
    "3. Copy the link and submit it in Moodle\n",
    "    - You can copy the link easily by right-clicking it and choosing _Copy Output to Clipboard_"
   ]
  },
  {
   "cell_type": "code",
   "execution_count": null,
   "id": "52906cfc-157b-41c4-87d9-25b31151ebcf",
   "metadata": {
    "tags": [
     "rm"
    ]
   },
   "outputs": [],
   "source": [
    "# Upload the code in the first input cell to pastebin\n",
    "%pastebin 1"
   ]
  }
 ],
 "metadata": {
  "kernelspec": {
   "display_name": "Python 3.9 (comp-methods)",
   "language": "python",
   "name": "comp-methods"
  },
  "language_info": {
   "codemirror_mode": {
    "name": "ipython",
    "version": 3
   },
   "file_extension": ".py",
   "mimetype": "text/x-python",
   "name": "python",
   "nbconvert_exporter": "python",
   "pygments_lexer": "ipython3",
   "version": "3.9.7"
  }
 },
 "nbformat": 4,
 "nbformat_minor": 5
}
