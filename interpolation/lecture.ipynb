{
 "cells": [
  {
   "cell_type": "markdown",
   "id": "6c157e28-e957-457d-9733-fc91441e3195",
   "metadata": {
    "slideshow": {
     "slide_type": "slide"
    },
    "tags": []
   },
   "source": [
    "# Polynomial interpolation: introduction\n",
    "\n",
    "This notebook is based on Chapters 6 and 11 of \n",
    "\n",
    "<a id=\"thebook\"></a>\n",
    "\n",
    "> Süli, Endre and Mayers, David F. _An introduction to numerical analysis_. Cambridge University Press, Cambridge, 2003.\n",
    "<https://doi.org/10.1017/CBO9780511801181> (ebook in [Helka](https://helka.helsinki.fi/permalink/358UOH_INST/1h3k2rg/alma9926836783506253))\n",
    "\n",
    "\n",
    "We consider the interpolation of a given data set by the polynomial of lowest possible degree that passes through the points of the dataset. Polynomial interpolation, and related techniques such as [Bézier curves](https://en.wikipedia.org/wiki/B%C3%A9zier_curve), can be used to approximate complicated curves given a few points, see the [Utah teapot](https://en.wikipedia.org/wiki/Utah_teapot) for an iconic example. For our purposes, polynomial interpolation forms the basis for algorithms in numerical integration and numerical ordinary differential equations."
   ]
  },
  {
   "cell_type": "markdown",
   "id": "cd282ec0-2113-4357-ad79-c5cd22e67413",
   "metadata": {
    "slideshow": {
     "slide_type": "slide"
    }
   },
   "source": [
    "# Lagrange interpolation\n",
    "\n",
    "Let $n \\ge 0$ be an integer, define\n",
    "\n",
    "$$\n",
    "\\mathbb P_n = \\{p : \\mathbb R \\to \\mathbb R : \\text{$p$ is a polynomial of degree $\\le n$} \\},\n",
    "$$\n",
    "\n",
    "and consider the problem\n",
    "\n",
    "> Let $x_i, y_i \\in \\mathbb R$, $i=0,\\dots,n$, and suppose that $x_i \\ne x_j$ for $i \\ne j$.\n",
    ">\n",
    "> Find $p \\in \\mathbb P_n$ such that $p(x_i) = y_i$."
   ]
  },
  {
   "cell_type": "markdown",
   "id": "09b7e49d-281a-408d-bbc9-55258065d378",
   "metadata": {
    "slideshow": {
     "slide_type": "slide"
    }
   },
   "source": [
    "## Theorem: Lagrange interpolation\n",
    "> For integer $n \\ge 1$ and distinct $x_i \\in \\mathbb R$, $i=0,\\dots,n$, the polynomials\n",
    ">\n",
    ">$$\n",
    "L_k(x) = \\prod_{i=0, i \\ne k}^n \\frac{x-x_i}{x_k-x_i}, \\qquad k=0,\\dots,n,\n",
    "$$\n",
    ">\n",
    "> satisfy $L_k(x_i) = \\delta_{ik}$ for all $i,k = 0,\\dots,n$. \n",
    "> Moreover, for any $y_i \\in \\mathbb R$, $i = 0,\\dots,n$,\n",
    ">$$\n",
    "p(x) = \\sum_{k=0}^n y_k L_k(x)\n",
    "$$\n",
    ">\n",
    "> satisfies $p \\in \\mathbb P_n$ and $p(x_i) = y_i$ for $i = 0,\\dots,n$. Also, if $q \\in \\mathbb P_n$ and $q(x_i) = y_i$ for $i = 0,\\dots,n$, then $q = p$.\n",
    "> Setting $L_0 = 1$, the same holds also for $n=0$. \n",
    "\n",
    "For a proof, see Lemma 6.1 and Theorem 6.1 in [the book](#thebook)."
   ]
  },
  {
   "cell_type": "markdown",
   "id": "69f438c8-987b-4b51-b8a5-062402f7c86a",
   "metadata": {
    "slideshow": {
     "slide_type": "slide"
    }
   },
   "source": [
    "Let $k \\ge 0$ be an interger and let $a < b$. We write $C^k(a,b)$ for the set of real valued functions that are continuous on $[a,b]$ and have continuous derivatives up to order $k$ on $[a,b]$."
   ]
  },
  {
   "cell_type": "markdown",
   "id": "a4bcacbe-68bf-45ec-ae56-06ba19d0ed3b",
   "metadata": {},
   "source": [
    "## Theorem: error in Lagrange interpolation\n",
    "> Let $x_0, \\dots x_n \\in [a,b]$ be distinct, let $f \\in C^{n+1}(a,b)$, and set\n",
    ">\n",
    ">$$\n",
    "p(x) = \\sum_{k=0}^n f(x_k) L_k(x).\n",
    "$$\n",
    ">\n",
    "> Then for all $x \\in [a,b]$ there is $\\xi \\in (a,b)$ such that \n",
    ">\n",
    ">$$\n",
    "f(x) - p(x) = \\frac{f^{(n+1)}(\\xi)}{(n+1)!} \\prod_{i=0}^n (x-x_i).\n",
    "$$\n",
    "\n",
    "For a proof, see Theorem 6.2 in [the book](#thebook)."
   ]
  },
  {
   "cell_type": "markdown",
   "id": "702043e3-c087-43c9-8861-0bce221ce645",
   "metadata": {
    "slideshow": {
     "slide_type": "slide"
    }
   },
   "source": [
    "# Runge phenomenon\n",
    "\n",
    "Let $a = -5$, $b = 5$ and consider the Lagrange interpolation polynomial $p$ of the function \n",
    "\n",
    "$$\n",
    "f(x) = \\frac{1}{1+x^2}\n",
    "$$\n",
    "\n",
    "with equally spaced points on $[a,b]$ \n",
    "\n",
    "$$\n",
    "x_i = a + \\frac{i(b-a)}{n}, \\qquad i = 0,\\dots,n.\n",
    "$$\n",
    "\n",
    "Let us find the maximum of $|f - p|$ on $[a,b]$. The maximum is at a critical point of $p - f$ (this sign is more convenient) or at one of the end points $a$ and $b$. A critical point $x$ satisfies $p'(x) - f'(x) = 0$ or equivalently the polynomial equation\n",
    "\n",
    "$$\n",
    "(x^2 + 1)^2 p'(x) + 2x = 0.\n",
    "$$\n",
    "\n",
    "Let's solve this equation using the polynomial root finding algorithm of NumPy."
   ]
  },
  {
   "cell_type": "code",
   "execution_count": null,
   "id": "6bcae7b7-87be-475c-9fad-6b43146002fa",
   "metadata": {
    "slideshow": {
     "slide_type": "slide"
    }
   },
   "outputs": [],
   "source": [
    "import numpy as np\n",
    "import scipy.interpolate as interp\n",
    "\n",
    "def f(x):\n",
    "    return 1/(1 + x**2)\n",
    "\n",
    "def p(n):\n",
    "    '''Lagrange interpolation polynomial of f on [-5,5]'''\n",
    "    xs = np.linspace(-5, 5, n+1)\n",
    "    ys = f(xs)\n",
    "    return interp.lagrange(xs, ys)    \n",
    "\n",
    "def crit(p):\n",
    "    '''Critical points of p - f on [-5, 5]'''\n",
    "    q = np.poly1d([1, 0, 2, 0, 1]) # (x^2 + 1)^2 = x^4 + 2 x^2 + 1\n",
    "    r = np.poly1d([2, 0]) # 2x\n",
    "    # The left-hand side of the equation, i.e. q p' + r\n",
    "    lhs = np.polyadd(np.polymul(q, np.polyder(p)), r)\n",
    "    zs = np.roots(lhs)\n",
    "    # Select the real roots \n",
    "    ixs = np.abs(np.imag(zs)) < np.finfo(float).eps\n",
    "    xs = np.real(zs[ixs])\n",
    "    # Select the roots in (-5,5)\n",
    "    ixs = np.abs(xs) < 5\n",
    "    return xs[ixs]"
   ]
  },
  {
   "cell_type": "code",
   "execution_count": null,
   "id": "1f904896-8726-4cbd-9d1e-3b61b63cb4a6",
   "metadata": {
    "slideshow": {
     "slide_type": "slide"
    }
   },
   "outputs": [],
   "source": [
    "def dist(p):\n",
    "    '''Maximum of |f-p| on [-5,5]'''\n",
    "    xs = crit(p)\n",
    "    # Append the end points\n",
    "    xs = np.append(xs, [-5, 5])\n",
    "    # polyval evaluates a polynomial using Horner's method \n",
    "    return np.max(np.abs(f(xs) - np.polyval(p, xs)))\n",
    "\n",
    "ns = [2**n for n in range(1,6)]\n",
    "ds = [dist(p(n)) for n in ns]\n",
    "import pandas as pd\n",
    "df = pd.DataFrame(ds)\n",
    "df.columns = ['Max error']\n",
    "df.index = ns\n",
    "df.index.name = 'n'\n",
    "df.style.format('{:.2f}')"
   ]
  },
  {
   "cell_type": "code",
   "execution_count": null,
   "id": "5d2b1ff4-2aff-47b4-9f32-ef628edc28b5",
   "metadata": {
    "slideshow": {
     "slide_type": "slide"
    }
   },
   "outputs": [],
   "source": [
    "# Plot f and p with n = 10\n",
    "import matplotlib.pyplot as plt\n",
    "xs = np.linspace(-5, 5, 100)\n",
    "plt.plot(xs, f(xs), 'b')\n",
    "plt.plot(xs, np.polyval(p(10), xs), 'r');"
   ]
  },
  {
   "cell_type": "markdown",
   "id": "41abda4a-c117-4a07-b71b-fb95d757db0d",
   "metadata": {
    "slideshow": {
     "slide_type": "slide"
    }
   },
   "source": [
    "Both $f$ and $p$ extend to the complex plane, however, $f$ is singular at $z = \\pm \\imath$. (Here $\\imath = \\sqrt{-1}$.) Let $C$ be a positively oriented simple closed curve in the complex plane and suppose that the line segment $[-5, 5]$ is inside $C$ and that $\\pm \\imath$ are both outside $C$. Define \n",
    "\n",
    "$$\n",
    "g(z) = \\frac{f(z)}{z - x} \\prod_{i=0}^n \\frac{x - x_i}{z - x_i}.\n",
    "$$\n",
    "\n",
    "Then the [residue theorem](https://en.wikipedia.org/wiki/Residue_theorem) implies that \n",
    "\n",
    "$$\n",
    "\\frac{1}{2 \\pi \\imath} \\oint_C g(z) dz =  \\mathop{\\rm Res}(g, x) + \\sum_{k=0}^n \\mathop{\\rm Res}(g, x_k) = f(x) -  \\sum_{k=0}^n f(x_k) L_k(x) = f(x) - p(x).\n",
    "$$\n",
    "\n",
    "The curve $C$ must intersect the line segment $\\{\\imath y : |y| < 1 \\}$ on the imaginary axis since $\\pm \\imath$ are outside $C$. Let $z$ be a point in the intersection and let $x$ be close to $-5$. In general, the function $g$ is not small near $z$ since $|x - x_i|$ is larger than $|z - x_i|$ for $x_i$ near $5$."
   ]
  },
  {
   "cell_type": "markdown",
   "id": "2c5c6e4f-bcd7-44d8-b4f1-631d00839bb6",
   "metadata": {
    "slideshow": {
     "slide_type": "slide"
    }
   },
   "source": [
    "# Linear interpolating splines\n",
    "\n",
    "Instead of using a global polynomial approximation like Lagrange interpolation on a large interval, it is often better to divide the interval into small subintervals and look for a piecewise polynomial approximation. \n",
    "\n",
    "Let $a < b$ and let $m \\ge 1$ be an integer. Let \n",
    "\n",
    "$$\n",
    "a = x_0 < x_1 < \\dots < x_m = b.\n",
    "$$ \n",
    "\n",
    "The _linear spline_ interpolating $f$ is \n",
    "\n",
    "$$\n",
    "s(x) = \\frac{x - x_{i-1}}{x_i - x_{i-1}} f(x_i) + \\frac{x_{i} - x}{x_i - x_{i-1}} f(x_{i-1}), \\qquad x \\in [x_{i-1}, x_i], \\quad i = 1,\\dots,m.\n",
    "$$\n",
    "\n",
    "We see that $s(x_i) = f(x_i)$ for all $i=0,\\dots,m$, $s$ is continuous, and that $s$ a polynomial of first order on each subinterval.\n",
    "Also, if $m = 1$, then $s \\in \\mathbb P_1$ is the Lagrange interpolation polynomial of $f$ with $x_0 = a$ and $x_1 = b$."
   ]
  },
  {
   "cell_type": "markdown",
   "id": "55cf731f-ae4d-491d-9bcb-d20f027cf37d",
   "metadata": {
    "slideshow": {
     "slide_type": "slide"
    }
   },
   "source": [
    "We write for $f \\in C(a,b)$ \n",
    "\n",
    "$$\n",
    "\\|f\\|_\\infty = \\max_{x \\in [a,b]} |f(x)|.\n",
    "$$\n",
    "\n",
    "## Theorem: linear interpolation error\n",
    "> Let $f \\in C^2(a,b)$ and let $s$ be the linear spline interpolating $f$ at \n",
    ">\n",
    ">$$\n",
    "a = x_0 < x_1 < \\dots < x_m = b.\n",
    "$$\n",
    ">\n",
    "> Write $h = \\max_{i=1,\\dots,m} |x_i - x_{i-1}|$. Then \n",
    ">$$\n",
    "\\|f - s\\|_\\infty \\le \\frac18 \\|h^2 f''\\|_\\infty.\n",
    "$$\n",
    "\n",
    "For a proof, see Theorem 11.1 in [the book](#thebook)."
   ]
  },
  {
   "cell_type": "code",
   "execution_count": null,
   "id": "0e321110-aede-4faf-b096-a7a9e51f565a",
   "metadata": {
    "slideshow": {
     "slide_type": "slide"
    }
   },
   "outputs": [],
   "source": [
    "# Linear spline interpolation of exp(-3x) on [0,1]\n",
    "def f(x):\n",
    "    return np.exp(-3*x)\n",
    "\n",
    "xs = np.linspace(0, 1, 4)\n",
    "ys = f(xs)\n",
    "s = interp.make_interp_spline(xs, ys, k=1)\n",
    "\n",
    "xs_fine = np.linspace(0, 1, 100)\n",
    "plt.plot(xs_fine, f(xs_fine), 'b')\n",
    "# s is a function and can be evaluated in the fine grid\n",
    "plt.plot(xs_fine, s(xs_fine), 'r'); "
   ]
  },
  {
   "cell_type": "markdown",
   "id": "9b38fd2e-f8a5-46d3-8a29-6da92a64ba32",
   "metadata": {
    "slideshow": {
     "slide_type": "slide"
    }
   },
   "source": [
    "# Differentiation\n",
    "\n",
    "Let $p(x) = \\sum_{k=0}^n f(x_k) L_k(x)$ be the Lagrange interpolation polynomial of a function $f$,\n",
    "with distinct $x_0, \\dots, x_n \\in [a,b]$. Then $p'$ is an approximation of $f'$. We write $\\partial$ for the derivative with respect to $x$.\n",
    "\n",
    "## Theorem: error in differentiation\n",
    "> Let $f \\in C^{n+1}(a,b)$ and let $p \\in \\mathbb P_n$ be the Lagrange interpolation polynomial as above. Then there are $\\eta_1,\\dots,\\eta_n \\in (a,b)$ such that for all $x \\in [a,b]$ there is $\\xi \\in (a,b)$ such that \n",
    "> \n",
    ">$$\n",
    "f'(x) - p'(x) = \\frac{f^{(n+1)}(\\xi)}{n!} \\prod_{i=1}^n (x-\\eta_i).\n",
    "$$\n",
    ">\n",
    "> Also, writing $h = b - a$, there is $C>0$, independent of $f$ and $h$, such that\n",
    ">\n",
    ">$$\n",
    "\\|h\\partial(f - p)\\|_\\infty \\le C \\|(h\\partial)^{n+1} f\\|_\\infty.\n",
    "$$\n",
    ">\n",
    "\n",
    "For a proof, see Theorem 6.5 in [the book](#thebook)."
   ]
  },
  {
   "cell_type": "markdown",
   "id": "b34d28b0-9adc-437f-9b57-f96fad58908a",
   "metadata": {
    "slideshow": {
     "slide_type": "slide"
    }
   },
   "source": [
    "## Example: first order finite differences\n",
    "\n",
    "Let $a = t$ and $b = t + h$ for some $t \\in \\mathbb R$ and $h > 0$, and let $p \\in \\mathbb P_1$ be the Lagrange interpolation polynomial of a function $f$ with $x_0 = a$ and $x_1 = b$.\n",
    "Then \n",
    "\n",
    "\\begin{align*}\n",
    "p(x) &= \\frac{x - t}{h} f(t+h) + \\frac{t + h - x}{h} f(t),\n",
    "\\\\\n",
    "p'(x) &= \\frac{f(t+h) - f(t)}{h}.\n",
    "\\end{align*}\n",
    "\n",
    "Note that $p'$ does not depend on $x$. It is called the [forward finite difference](https://en.wikipedia.org/wiki/Finite_difference) of $f$ at $t$. \n",
    "\n",
    "Let $a = t - h/2$ and $b = t + h/2$, and let $p \\in \\mathbb P_1$ be as above. Then\n",
    "\n",
    "\\begin{align*}\n",
    "p(x) &= \\frac{x - t + h/2}{h} f(t+h/2) + \\frac{t + h/2 - x}{h} f(t-h/2),\n",
    "\\\\\n",
    "p'(x) &= \\frac{f(t+h/2) - f(t - h/2)}{h},\n",
    "\\end{align*}\n",
    "\n",
    "and $p'$ is called the central finite difference."
   ]
  },
  {
   "cell_type": "markdown",
   "id": "a30c0e45-d23f-4f38-ac3a-5bfd5e7054f5",
   "metadata": {
    "slideshow": {
     "slide_type": "slide"
    }
   },
   "source": [
    "## Example: differentiation is nonetheless hard\n",
    "\n",
    "Consider the central finite difference of a function $f$ at $t = 0$,\n",
    "and suppose that $f(\\pm h/2)$ is known only up to an additive error $\\epsilon_\\pm$.\n",
    "Then we can not compute the correct finite difference, but only\n",
    "\n",
    "$$\n",
    "\\frac{f(h/2) + \\epsilon_+ - f(-h/2) - \\epsilon_-}{h}\n",
    "= \\frac{f(h/2) - f(-h/2)}{h} + \\frac{\\epsilon_+ - \\epsilon_-}{h}.\n",
    "$$\n",
    "\n",
    "This diverges as $h \\to 0$ unless $\\epsilon_+ = \\epsilon_-$. In practice, errors $\\epsilon_\\pm$ of order of the machine epsilon are unavoidable, and choosing small $h$ will amplify these. \n",
    "\n",
    "Mitigating errors like this is discussed further in the inverse problems courses at UH."
   ]
  },
  {
   "cell_type": "markdown",
   "id": "ff93ef11-2ad1-440d-9d0d-2f52502d7545",
   "metadata": {
    "slideshow": {
     "slide_type": "slide"
    }
   },
   "source": [
    "# On the interpolation sub-package of SciPy\n",
    "\n",
    "We have already seen [make_interp_spline](https://docs.scipy.org/doc/scipy/reference/generated/scipy.interpolate.make_interp_spline.html) that computes the coefficients of an interpolating B-spline. B-splines are discussed further in Section 11.6 of [the book](#thebook). We will next consider briefly cubic splines, see Sections 11.4-5. \n",
    "\n",
    "For more details on interpolation with SciPy see the [tutorial](https://docs.scipy.org/doc/scipy/reference/tutorial/interpolate.html)."
   ]
  },
  {
   "cell_type": "markdown",
   "id": "3333e904-57a4-4eca-85dd-a9fed5171f6a",
   "metadata": {
    "slideshow": {
     "slide_type": "slide"
    },
    "tags": []
   },
   "source": [
    "## Example: cubic splines\n",
    "\n",
    "Let $a = x_0 < x_1 < \\dots < x_m = b$.\n",
    "The _natural cubic spline_ $s$ interpolating a function on $f$ is defined via the conditions\n",
    "\n",
    "1. $s(x_i) = f(x_i)$ for $i = 0,\\dots,m$,\n",
    "2. $s \\in C^2(a,b)$ and $s|_{[x_{i-1},x_i]} \\in \\mathbb P_3$ for $i=1,\\dots,m$,\n",
    "3. $s''(x_0) = s''(x_m) = 0$.\n",
    "\n",
    "The _Hermitian cubic spline_ $s$ interpolating a function on $f$ is defined via the conditions\n",
    "\n",
    "1. $s(x_i) = f(x_i)$ and $s'(x_i) = f'(x_i)$ for $i = 0,\\dots,m$,\n",
    "2. $s \\in C^1(a,b)$ and $s|_{[x_{i-1},x_i]} \\in \\mathbb P_3$ for $i=1,\\dots,m$."
   ]
  },
  {
   "cell_type": "markdown",
   "id": "aa398e7b-1807-4551-88dc-58c73ba4cec3",
   "metadata": {
    "slideshow": {
     "slide_type": "slide"
    },
    "tags": []
   },
   "source": [
    "Let us plot the error $f - s$ in approximations of \n",
    "\n",
    "$$\n",
    "f(x) = \\frac{1}{1+x^2}\n",
    "$$\n",
    "\n",
    "on the interval $[0,5]$ by using the natural and Hermite cubic splines $s$ with \n",
    "\n",
    "$$\n",
    "x_0 = 0, \\quad x_1 = \\frac53, \\quad x_2 = \\frac{10}3, \\quad x_3 = 5.\n",
    "$$"
   ]
  },
  {
   "cell_type": "code",
   "execution_count": null,
   "id": "4a541d2f-56fd-4ab8-9069-cac22d4dbf03",
   "metadata": {
    "tags": [
     "sol"
    ]
   },
   "outputs": [],
   "source": [
    "def f(x):\n",
    "    return 1/(1+x**2)\n",
    "def fprime(x):\n",
    "    '''The derivative of f'''\n",
    "    return -2*x/(1+x**2)**2\n",
    "\n",
    "xs = np.linspace(0, 5, 4)\n",
    "ys = f(xs)\n",
    "dys = fprime(xs)"
   ]
  },
  {
   "cell_type": "code",
   "execution_count": null,
   "id": "a293473e-f34a-4c77-96ba-f2d06b61604a",
   "metadata": {
    "slideshow": {
     "slide_type": "slide"
    },
    "tags": [
     "sol"
    ]
   },
   "outputs": [],
   "source": [
    "plt.plot([0,5], [0,0], 'k') # zero level for comparison\n",
    "xs_fine = np.linspace(0, 5, 100)\n",
    "\n",
    "# The natural cubic spline\n",
    "s_nat = interp.make_interp_spline(xs, ys, k=3, bc_type='natural')\n",
    "plt.plot(xs_fine, s_nat(xs_fine) - f(xs_fine), 'r')\n",
    "\n",
    "# The Hermite cubic spline\n",
    "s_her = interp.CubicHermiteSpline(xs, ys, dys)\n",
    "plt.plot(xs_fine, s_her(xs_fine) - f(xs_fine), 'g');"
   ]
  },
  {
   "cell_type": "markdown",
   "id": "66a5fd2b-576e-4887-8ee5-6018a5348b8f",
   "metadata": {
    "slideshow": {
     "slide_type": "fragment"
    },
    "tags": [
     "sol"
    ]
   },
   "source": [
    "Clearly the green curve is closer to zero on $[x_1,x_3]$. That is, the Hermite cubic spline gives a better approximation than the natural one. On the other hand, its computation requires also the knowledge of $f'(x_i)$, $i=0,\\dots,3$. (A similar plot can be found in [the book](#thebook), see Fig. 11.4.) "
   ]
  },
  {
   "cell_type": "code",
   "execution_count": null,
   "id": "fc8b7098-20e9-4dec-8743-d65ec4e65802",
   "metadata": {
    "slideshow": {
     "slide_type": "slide"
    }
   },
   "outputs": [],
   "source": []
  }
 ],
 "metadata": {
  "celltoolbar": "Slideshow",
  "kernelspec": {
   "display_name": "Python 3.9 (comp-methods)",
   "language": "python",
   "name": "comp-methods"
  },
  "language_info": {
   "codemirror_mode": {
    "name": "ipython",
    "version": 3
   },
   "file_extension": ".py",
   "mimetype": "text/x-python",
   "name": "python",
   "nbconvert_exporter": "python",
   "pygments_lexer": "ipython3",
   "version": "3.9.7"
  }
 },
 "nbformat": 4,
 "nbformat_minor": 5
}
