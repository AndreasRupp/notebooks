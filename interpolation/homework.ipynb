{
 "cells": [
  {
   "cell_type": "markdown",
   "id": "a0657a75-782f-4784-9bdd-4b8fe6d3998d",
   "metadata": {},
   "source": [
    "Lagrange's interpolation is a purely algebraic result, and it also holds in fields other than the field of real numbers. [Shamir's Secret Sharing](https://en.wikipedia.org/wiki/Shamir's_Secret_Sharing) (SSS) is a scheme in cryptography based on Lagrange's interpolation in a finite field. We will consider a naive version of the scheme using integer arithmetic as in the [example](https://en.wikipedia.org/wiki/Shamir's_Secret_Sharing#Example) in Wikipedia.\n",
    "\n",
    "SSS is used to secure a secret in a distributed way, most often to secure other encryption keys. The secret is split into $n$ parts, called shares. These shares are used to reconstruct the original secret. To unlock the secret via SSS, a minimum number $k$ of the $n$ shares are needed. An adversary who discovers any number of shares less than $k$ will not have any information about the secured secret, this is called perfect secrecy.\n",
    "\n",
    "SSS works by choosing a polynomial of degree $k-1$\n",
    "\n",
    "$$\n",
    "f(x) = a_0 + a_1 x + \\dots a_{k-1} x^{k-1}\n",
    "$$\n",
    "\n",
    "where an integer $a_0$ is the secret to be secured, and $a_1,\\dots,a_{k-1}$ are randomly chosen integers. The $n$ shares are given by the pairs\n",
    "\n",
    "$$\n",
    "(i, f(i)), \\qquad i=1,\\dots,n.\n",
    "$$\n",
    "\n",
    "Given any $k$ distinct shares $(x_j, f(x_j))$, $j=1,\\dots,k$, the secret can be recovered by forming the Lagrange interpolation polynomial $p \\in \\mathbb P_{k-1}$ through these points, and by evaluating $p(0)$.\n",
    "\n",
    "Implement this recovery algorithm as the function `recover_secret`. This function must return an integer, not a float. You can use [round](https://docs.python.org/3/library/functions.html#round) to convert a float to an integer.\n",
    "\n",
    "(When the integer arithmetic is used, an adversary with access to less than $k$ shares has information on the secret since the possible values of the other shares must lie on a smooth polynomial curve of degree $k-1$. This weakness is eliminated by using the arithmetic in a finite field.)"
   ]
  },
  {
   "cell_type": "code",
   "execution_count": null,
   "id": "fafbff44-b142-4267-b0c0-56a6361d4379",
   "metadata": {
    "tags": [
     "rm"
    ]
   },
   "outputs": [],
   "source": [
    "import numpy as np\n",
    "import scipy.interpolate as interp\n",
    "\n",
    "def recover_secret(xs, ys):\n",
    "    '''Given k shares returns the secret \n",
    "        \n",
    "        Shares are given in the form xs = [x_1, ..., x_k] and \n",
    "        ys = [f(x_1), ..., f(x_k)]\n",
    "    '''\n",
    "    return 0 # a placeholder, your code goes here"
   ]
  },
  {
   "cell_type": "code",
   "execution_count": null,
   "id": "007af044-0af7-4bfe-90dc-b719ab84a447",
   "metadata": {},
   "outputs": [],
   "source": [
    "rng = np.random.default_rng()\n",
    "high = 10000\n",
    "def generate_shares(a0, n, k):\n",
    "    '''Returns the shares [f(1), ..., f(n)]\n",
    "    \n",
    "        a0 is the secret, n is the number of shares, \n",
    "        and k is the minimum number of shares required to recover the secret\n",
    "    '''\n",
    "    # Generate k-1 random integers between 0 and high\n",
    "    a = rng.integers(high, size=k-1)\n",
    "    a = np.append(a, a0)\n",
    "    x = range(1, n+1)\n",
    "    return np.polyval(a, x)\n",
    "\n",
    "# Example from the Wikipedia article: the secret is 1234 and \n",
    "# the shares are (2, 1942), (4, 3402), (5, 4414)\n",
    "xs = [2, 4, 5]\n",
    "ys = [1942, 3402, 4414]\n",
    "assert(recover_secret(xs, ys) == 1234)\n",
    "\n",
    "# Test against the above generator\n",
    "ys = generate_shares(1001, 10, 4)\n",
    "xs = np.array([1, 2, 3, 4])\n",
    "assert(recover_secret(xs, ys[xs - 1]) == 1001)\n",
    "\n",
    "# With too few shares, we shouldn't get the secret \n",
    "xs = np.array([1, 2, 3])\n",
    "assert(recover_secret(xs, ys[xs - 1]) != 1001)\n",
    "\n",
    "# The order of shares shouldn't matter\n",
    "xs = np.array([2, 1, 10, 5])\n",
    "assert(recover_secret(xs, ys[xs - 1]) == 1001)"
   ]
  },
  {
   "cell_type": "markdown",
   "id": "d241c9b3-7b2d-48a6-9091-6a993392e163",
   "metadata": {},
   "source": [
    "**How to hand in your solution**\n",
    "\n",
    "1. Run the whole notebook by choosing _Restart Kernel and Run All Cells_ in the _Run_ menu\n",
    "    - Alternatively you can click the ⏩️ icon in the toolbar\n",
    "2. Click the link below to check that the piece of code containing your solution was uploaded to pastebin\n",
    "    - Note that the below cell is executed only if your code passes the above tests\n",
    "    - If you have changed the order of cells in the notebook, you may need to change the number in the below cell to the one in the left margin of the cell containing your solution\n",
    "3. Copy the link and submit it in Moodle\n",
    "    - You can copy the link easily by right-clicking it and choosing _Copy Output to Clipboard_"
   ]
  },
  {
   "cell_type": "code",
   "execution_count": null,
   "id": "6bf324ff-7644-4ac5-a0bd-e7d2840501cb",
   "metadata": {
    "tags": [
     "rm"
    ]
   },
   "outputs": [],
   "source": [
    "# Upload the code in the first input cell to pastebin\n",
    "%pastebin 1"
   ]
  }
 ],
 "metadata": {
  "kernelspec": {
   "display_name": "Python 3.9 (comp-methods)",
   "language": "python",
   "name": "comp-methods"
  },
  "language_info": {
   "codemirror_mode": {
    "name": "ipython",
    "version": 3
   },
   "file_extension": ".py",
   "mimetype": "text/x-python",
   "name": "python",
   "nbconvert_exporter": "python",
   "pygments_lexer": "ipython3",
   "version": "3.9.7"
  },
  "scenes_data": {
   "active_scene": "Default Scene",
   "init_scene": "",
   "scenes": [
    "Default Scene"
   ]
  }
 },
 "nbformat": 4,
 "nbformat_minor": 5
}
